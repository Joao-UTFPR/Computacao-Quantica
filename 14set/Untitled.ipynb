{
 "cells": [
  {
   "cell_type": "code",
   "execution_count": 79,
   "id": "0a7ee772-ce53-4f87-beec-5c5b0e01aff0",
   "metadata": {},
   "outputs": [],
   "source": [
    "from qiskit import QuantumCircuit, transpile, assemble\n",
    "from qiskit_aer import AerSimulator\n",
    "from qiskit.visualization import plot_histogram, plot_distribution, plot_bloch_multivector, array_to_latex\n",
    "from qiskit.quantum_info import Statevector\n",
    "from math import sqrt"
   ]
  },
  {
   "cell_type": "code",
   "execution_count": 80,
   "id": "ade4103f-2b8d-4b66-8b37-e00712842d50",
   "metadata": {},
   "outputs": [
    {
     "name": "stdout",
     "output_type": "stream",
     "text": [
      "     ┌───┐┌───┐\n",
      "q_0: ┤ X ├┤ X ├\n",
      "     ├───┤└─┬─┘\n",
      "q_1: ┤ H ├──■──\n",
      "     └───┘     \n"
     ]
    }
   ],
   "source": [
    "siml = AerSimulator()\n",
    "qcirc = QuantumCircuit(2)\n",
    "# qcirc.x(0)\n",
    "qcirc.h(1)\n",
    "qcirc.x(0)\n",
    "qcirc.cnot(1,0)\n",
    "print(qcirc)"
   ]
  },
  {
   "cell_type": "code",
   "execution_count": 81,
   "id": "eafe8712-cd30-4413-b7ed-1caa6c410d19",
   "metadata": {},
   "outputs": [
    {
     "data": {
      "text/latex": [
       "$$\n",
       "\\text{Statevector = }\n",
       "\\begin{bmatrix}\n",
       "0 & \\frac{\\sqrt{2}}{2} & \\frac{\\sqrt{2}}{2} & 0  \\\\\n",
       " \\end{bmatrix}\n",
       "$$"
      ],
      "text/plain": [
       "<IPython.core.display.Latex object>"
      ]
     },
     "execution_count": 81,
     "metadata": {},
     "output_type": "execute_result"
    }
   ],
   "source": [
    "final_state = Statevector(qcirc)\n",
    "qcirc.save_unitary()\n",
    "comp_qc = transpile(qcirc, siml)\n",
    "job = siml.run(comp_qc, shots = 1000)\n",
    "result = job.result()\n",
    "# final_state = result.get_statevector()\n",
    "array_to_latex(final_state, prefix=\"\\\\text{Statevector = }\")"
   ]
  },
  {
   "cell_type": "code",
   "execution_count": 82,
   "id": "cda7e350-b73d-44e5-acf8-77cbd2851226",
   "metadata": {},
   "outputs": [
    {
     "data": {
      "text/latex": [
       "$$\n",
       "\\text{Unitary = }\n",
       "\\begin{bmatrix}\n",
       "0 & \\frac{\\sqrt{2}}{2} & 0 & \\frac{\\sqrt{2}}{2}  \\\\\n",
       " \\frac{\\sqrt{2}}{2} & 0 & \\frac{\\sqrt{2}}{2} & 0  \\\\\n",
       " \\frac{\\sqrt{2}}{2} & 0 & - \\frac{\\sqrt{2}}{2} & 0  \\\\\n",
       " 0 & \\frac{\\sqrt{2}}{2} & 0 & - \\frac{\\sqrt{2}}{2}  \\\\\n",
       " \\end{bmatrix}\n",
       "$$"
      ],
      "text/plain": [
       "<IPython.core.display.Latex object>"
      ]
     },
     "execution_count": 82,
     "metadata": {},
     "output_type": "execute_result"
    }
   ],
   "source": [
    "array_to_latex(result.get_unitary(), prefix=\"\\\\text{Unitary = }\")"
   ]
  },
  {
   "cell_type": "code",
   "execution_count": null,
   "id": "b446b3b5-76b3-438a-9a18-7d194cfe7991",
   "metadata": {},
   "outputs": [],
   "source": []
  }
 ],
 "metadata": {
  "kernelspec": {
   "display_name": "Python 3 (ipykernel)",
   "language": "python",
   "name": "python3"
  },
  "language_info": {
   "codemirror_mode": {
    "name": "ipython",
    "version": 3
   },
   "file_extension": ".py",
   "mimetype": "text/x-python",
   "name": "python",
   "nbconvert_exporter": "python",
   "pygments_lexer": "ipython3",
   "version": "3.10.12"
  }
 },
 "nbformat": 4,
 "nbformat_minor": 5
}
