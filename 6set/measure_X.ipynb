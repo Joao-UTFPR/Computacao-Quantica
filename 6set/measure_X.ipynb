{
 "cells": [
  {
   "cell_type": "code",
   "execution_count": 13,
   "id": "0217f358-5d2b-47c9-9f48-b4598001dbed",
   "metadata": {},
   "outputs": [],
   "source": [
    "from qiskit import QuantumCircuit, transpile, assemble\n",
    "from qiskit_aer import AerSimulator\n",
    "from qiskit.visualization import plot_histogram, plot_distribution, plot_bloch_multivector\n",
    "from qiskit.quantum_info import Statevector\n",
    "from math import sqrt"
   ]
  },
  {
   "cell_type": "code",
   "execution_count": 14,
   "id": "3dbfa9cd-b7b9-41fc-94c6-f18d92fcd892",
   "metadata": {},
   "outputs": [
    {
     "data": {
      "text/plain": [
       "<qiskit.circuit.instructionset.InstructionSet at 0x7fa31e916680>"
      ]
     },
     "execution_count": 14,
     "metadata": {},
     "output_type": "execute_result"
    }
   ],
   "source": [
    "from qiskit import QuantumCircuit, transpile\n",
    "from qiskit_aer import AerSimulator\n",
    "from qiskit.visualization import plot_histogram, plot_distribution\n",
    "\n",
    "siml = AerSimulator()\n",
    "qcirc = QuantumCircuit(1,1) # 2 quantum\n",
    "qcirc.h(0) # applying Hadamard transform on qubit 0\n",
    "qcirc.measure(0, 0) # measure qubit 0 -> result on bit 0"
   ]
  },
  {
   "cell_type": "code",
   "execution_count": 15,
   "id": "7bcac0d2-265d-4ce6-adbd-c9adae927ff7",
   "metadata": {},
   "outputs": [
    {
     "name": "stdout",
     "output_type": "stream",
     "text": [
      "\n",
      "Total count for <+| and <-| are: {'1': 493, '0': 507}\n"
     ]
    }
   ],
   "source": [
    "comp_qc = transpile(qcirc, siml) # compiled quantum circuit\n",
    "job = siml.run(comp_qc, shots = 1000)  # run 1000 times\n",
    "result = job.result()\n",
    "counts = result.get_counts()   # result = dictionary\n",
    "print(\"\\nTotal count for <+| and <-| are:\", counts)"
   ]
  },
  {
   "cell_type": "code",
   "execution_count": null,
   "id": "50bbd3bb-e7a8-4066-910c-3988cda7e214",
   "metadata": {},
   "outputs": [],
   "source": []
  }
 ],
 "metadata": {
  "kernelspec": {
   "display_name": "Python 3 (ipykernel)",
   "language": "python",
   "name": "python3"
  },
  "language_info": {
   "codemirror_mode": {
    "name": "ipython",
    "version": 3
   },
   "file_extension": ".py",
   "mimetype": "text/x-python",
   "name": "python",
   "nbconvert_exporter": "python",
   "pygments_lexer": "ipython3",
   "version": "3.10.12"
  }
 },
 "nbformat": 4,
 "nbformat_minor": 5
}
